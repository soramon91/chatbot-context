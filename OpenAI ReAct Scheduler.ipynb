{
 "cells": [
  {
   "cell_type": "code",
   "execution_count": 1,
   "id": "45cb096d",
   "metadata": {},
   "outputs": [],
   "source": [
    "import os \n",
    "from dateutil import parser\n",
    "import calendar\n",
    "import random\n",
    "import json\n",
    "from faker import Faker\n",
    "import datetime\n",
    "from dateutil import parser"
   ]
  },
  {
   "cell_type": "code",
   "execution_count": 51,
   "id": "76d310bb",
   "metadata": {},
   "outputs": [],
   "source": [
    "fake = Faker()\n",
    "today = datetime.datetime.now()\n",
    "hours = (9, 18)   # open hours\n",
    "\n",
    "######### utility functions for scheduling\n",
    "\n",
    "# create random schedule\n",
    "def createSchedule(daysAhead=5, perDay=5):\n",
    "    schedule = {}\n",
    "    for d in range(0, daysAhead):\n",
    "        date = (today + datetime.timedelta(days=d)).strftime('%m/%d/%y')\n",
    "        schedule[date] = {}\n",
    "\n",
    "        for h in range(0, perDay -d):\n",
    "            hour = random.randint(hours[0], hours[1])\n",
    "            if hour not in schedule[date]:\n",
    "                schedule[date][hour] = fake.name()\n",
    "                \n",
    "    return schedule\n",
    "\n",
    "# get available times for a date\n",
    "def getAvailTimes(date, num=10):\n",
    "    schedule = loadSchedule()\n",
    "\n",
    "    # make sure date is a date\n",
    "    try:\n",
    "        date = parser.parse(date).strftime('%D')\n",
    "    except Exception as e:\n",
    "        return str(e)\n",
    "    \n",
    "    if '/' not in date or 'mm' in date:\n",
    "        return 'date parameter must be in format: mm/dd/yy'\n",
    "\n",
    "    if date not in schedule:\n",
    "        return 'that day is entirely open, all times are available'\n",
    "\n",
    "    hoursAvail = 'hours available on %s are ' % date\n",
    "\n",
    "    for h in range(hours[0], hours[1]):\n",
    "        if str(h) not in schedule[date]:\n",
    "            hoursAvail += str(h) +':00, '\n",
    "            num -= 1\n",
    "            if num == 0:\n",
    "                break\n",
    "    \n",
    "    if num > 0:\n",
    "        hoursAvail = hoursAvail[:-2] +' - all other times are reserved'\n",
    "    else:\n",
    "        hoursAvail = hoursAvail[:-2]\n",
    "        \n",
    "    return hoursAvail\n",
    "\n",
    "# schedule available time\n",
    "def scheduleTime(dateTime, verbose=False):\n",
    "    schedule = loadSchedule()\n",
    "\n",
    "    try:\n",
    "        date, time = dateTime.split(',')\n",
    "        time = time.strip()\n",
    "        date = date.strip()\n",
    "    except Exception as e:\n",
    "        return 'parameters must be date and time comma separated, for example: `01/13/23, 15:00'\n",
    "\n",
    "    if verbose:\n",
    "        print('date:', date, 'time:', time)\n",
    "\n",
    "    if not date or not time:\n",
    "        return \"sorry parameters must be date and time comma separated, for example: `12/31/23, 10:00` would be the input if for Dec 31'st 2023 at 10am\"\n",
    "\n",
    "    # make sure date is a date\n",
    "    try:\n",
    "        date = parser.parse(date).strftime('%D')\n",
    "    except Exception as e:\n",
    "        return str(e)\n",
    "\n",
    "    # get hours\n",
    "    if ':' in time:\n",
    "        try:\n",
    "            timeHour = int(time[:time.index(':')])\n",
    "            if int(timeHour) < 0 or int(timeHour) > 23:\n",
    "                return 'hour must be a number between 0 and 23'\n",
    "        except Exception as e:\n",
    "            return str(e) +'time must be in format hh:mm'\n",
    "\n",
    "        if verbose:\n",
    "            print('timeHour:', timeHour)\n",
    "        \n",
    "        if str(timeHour) not in schedule[date]:\n",
    "            if timeHour >= hours[0] and timeHour <= hours[1]:\n",
    "                schedule[date][timeHour] = fake.name()\n",
    "                saveSchedule(schedule)\n",
    "                print('Updated schedule json...')\n",
    "                return 'appointment scheduled for %s under name %s' % (time, schedule[date][timeHour])\n",
    "            else:\n",
    "                return '%s is after hours, please select a time during business hours: %s-%s' % (time, hours[0], hours[1])\n",
    "        else:\n",
    "            return 'sorry that time (%s) on %s is not available' % (time, date)\n",
    "    else:\n",
    "        return '%s is not a valid time, time must be in format hh:mm' % time\n",
    "    \n",
    "# save schedule json\n",
    "def saveSchedule(schedule):\n",
    "    with open('schedule.json', 'w') as f:\n",
    "        json.dump(schedule, f)\n",
    "    \n",
    "# load schedule json\n",
    "def loadSchedule():\n",
    "    global schedule\n",
    "    \n",
    "    with open('schedule.json') as json_file:\n",
    "        return json.load(json_file)\n",
    "\n",
    "# get today's date\n",
    "def todayDate():\n",
    "    now = datetime.datetime.now()\n",
    "    # Convert the string into a datetime object\n",
    "    return now.strftime('%-d %B, %Y')\n",
    "\n",
    "# get day of week for a date (or 'today')\n",
    "def dayOfWeek(date):\n",
    "    if date == 'today':\n",
    "        return calendar.day_name[today.weekday()]\n",
    "    else:\n",
    "        try:\n",
    "            theDate = parser.parse(date)\n",
    "        except:\n",
    "            return 'invalid date format, please use format: mm/dd/yy'\n",
    "        \n",
    "        return calendar.day_name[theDate.weekday()]\n",
    "    "
   ]
  },
  {
   "cell_type": "code",
   "execution_count": 26,
   "id": "505cc6fb",
   "metadata": {},
   "outputs": [
    {
     "data": {
      "text/plain": [
       "'7 July, 2023'"
      ]
     },
     "execution_count": 26,
     "metadata": {},
     "output_type": "execute_result"
    }
   ],
   "source": [
    "todayDate()"
   ]
  },
  {
   "cell_type": "code",
   "execution_count": 27,
   "id": "b3e6c2c6",
   "metadata": {},
   "outputs": [
    {
     "data": {
      "text/plain": [
       "'Friday'"
      ]
     },
     "execution_count": 27,
     "metadata": {},
     "output_type": "execute_result"
    }
   ],
   "source": [
    "dayOfWeek('07/07/23')"
   ]
  },
  {
   "cell_type": "code",
   "execution_count": 31,
   "id": "ba7183f8",
   "metadata": {},
   "outputs": [
    {
     "data": {
      "text/plain": [
       "{'07/07/23': {'18': 'Elizabeth Castillo',\n",
       "  '11': 'Krista Taylor',\n",
       "  '13': 'Sherry Farmer',\n",
       "  '14': 'Jerry Martin'},\n",
       " '07/08/23': {'10': 'James Turner', '13': 'Marie Quinn', '11': 'Eric Hammond'},\n",
       " '07/09/23': {'18': 'Anthony Berry', '16': 'Logan Wade'},\n",
       " '07/10/23': {'11': 'Adam Ortiz', '13': 'Kimberly Johnson'},\n",
       " '07/11/23': {'9': 'Madeline Weaver'}}"
      ]
     },
     "execution_count": 31,
     "metadata": {},
     "output_type": "execute_result"
    }
   ],
   "source": [
    "saveSchedule(createSchedule())\n",
    "loadSchedule()"
   ]
  },
  {
   "cell_type": "code",
   "execution_count": 42,
   "id": "37c4bfa2",
   "metadata": {},
   "outputs": [
    {
     "data": {
      "text/plain": [
       "'hours available on 07/07/23 are 10:00, 12:00, 15:00, 16:00, 17:00 - all other times are reserved'"
      ]
     },
     "execution_count": 42,
     "metadata": {},
     "output_type": "execute_result"
    }
   ],
   "source": [
    "getAvailTimes('7/7/23')"
   ]
  },
  {
   "cell_type": "code",
   "execution_count": 52,
   "id": "c3f13203",
   "metadata": {},
   "outputs": [
    {
     "data": {
      "text/plain": [
       "'5:00 is after hours, please select a time during business hours: 9-18'"
      ]
     },
     "execution_count": 52,
     "metadata": {},
     "output_type": "execute_result"
    }
   ],
   "source": [
    "scheduleTime('7/7/23, 5:00')"
   ]
  },
  {
   "cell_type": "code",
   "execution_count": null,
   "id": "6b8f9635",
   "metadata": {},
   "outputs": [],
   "source": []
  },
  {
   "cell_type": "code",
   "execution_count": 67,
   "id": "0e88ed34",
   "metadata": {},
   "outputs": [],
   "source": [
    "import openai\n",
    "import re\n",
    "import httpx\n",
    "\n",
    "openai.api_key = '...'\n",
    "\n",
    "class ChatBot:\n",
    "    def __init__(self, system=\"\"):\n",
    "        self.system = system\n",
    "        self.messages = []\n",
    "        if self.system:\n",
    "            self.messages.append({\"role\": \"system\", \"content\": system})\n",
    "    \n",
    "    def __call__(self, message):\n",
    "        self.messages.append({\"role\": \"user\", \"content\": message})\n",
    "        result = self.execute()\n",
    "        self.messages.append({\"role\": \"assistant\", \"content\": result})\n",
    "        return result\n",
    "    \n",
    "    def execute(self):\n",
    "        completion = openai.ChatCompletion.create(model='gpt-4', messages=self.messages, temperature=0)\n",
    "        #print(completion.usage)\n",
    "        return completion.choices[0].message.content\n",
    "\n",
    "prompt = \"\"\"\n",
    "You are a scheduling assistant named 'Joyce'. You run in a loop of Thought, Action, PAUSE, Observation.\n",
    "At the end of the loop you output an Answer\n",
    "Use Thought to describe your thoughts about the question you have been asked.\n",
    "Use Action to run one of the actions available to you - then return PAUSE.\n",
    "Observation will be the result of running those actions.\n",
    "\n",
    "Your available actions are:\n",
    "\n",
    "pythonCode:\n",
    "e.g. import datetime; now = datetime.datetime.now(); result = now.strftime(\"%A\")\n",
    "Runs Python code and returns a result - always set the variable 'result' to the answer\n",
    "\n",
    "calculate:\n",
    "e.g. calculate: 4 * 7 / 3\n",
    "Runs a calculation and returns the number - uses Python so be sure to use floating point syntax if necessary\n",
    "\n",
    "getAvailTimes:\n",
    "e.g. getAvailTimes: 11/19/23\n",
    "Use to get available appointment times for a given date. The input is a string in this format mm/dd/yy\n",
    "\n",
    "scheduleTime:\n",
    "e.g. scheduleTime: 10/13/23, 11:00\n",
    "Use to schedule an appointment for a given date and time. The input is a comma separated list of 2 strings: date and time in format: mm/dd/yy, hh:mm, convert date and time to these formats. For example, `12/31/23, 10:00` would represent Dec 31'st 2023 at 10am\n",
    "\n",
    "wikipedia:\n",
    "e.g. wikipedia: Django\n",
    "Returns a summary from searching Wikipedia\n",
    "\n",
    "Example session:\n",
    "\n",
    "Question: What is the capital of France?\n",
    "Thought: I should look up France on Wikipedia\n",
    "Action: wikipedia: France\n",
    "PAUSE\n",
    "You will be called again with this:\n",
    "Observation: France is a country. The capital is Paris.\n",
    "You then output:\n",
    "Answer: The capital of France is Paris\n",
    "\n",
    "Today's date is {today}, you must always begin by identifying the date in question if one is given.\n",
    "Conversation history:\n",
    "{history}\n",
    "\"\"\".strip()\n",
    "\n",
    "action_re = re.compile('^Action: (\\w+): (.*)$')\n",
    "history = []\n",
    "\n",
    "def query(question, max_turns=5, verbose=False):\n",
    "    global history\n",
    "    \n",
    "    i = 0\n",
    "    updatedPrompt = prompt.replace('{today}', todayDate()).replace('{history}', '\\n'.join(history))\n",
    "    bot = ChatBot(prompt)\n",
    "    next_prompt = question\n",
    "    while i < max_turns:\n",
    "        i += 1\n",
    "        result = bot(next_prompt)\n",
    "        \n",
    "        if verbose: print('[%s], %s' % (i, result))\n",
    "        answer = \"I don't know\"\n",
    "        prefix = 'Answer:'\n",
    "        if prefix in result:\n",
    "            startAnswer = result.index('Answer:')\n",
    "            if '\\n' in result[startAnswer:]:\n",
    "                endAnswer = result.index('\\n', startAnswer)\n",
    "            else:\n",
    "                endAnswer = startAnswer +len(result[startAnswer:])\n",
    "    \n",
    "            answer = result[startAnswer:endAnswer]\n",
    "        \n",
    "            history.append('Human:' +question)\n",
    "            history.append('AI:' +answer)\n",
    "            if verbose: \n",
    "                print('history:', history)\n",
    "\n",
    "            return answer.replace(prefix, '')\n",
    "        \n",
    "        actions = [action_re.match(a) for a in result.split('\\n') if action_re.match(a)]\n",
    "        if actions:\n",
    "            # There is an action to run\n",
    "            action, action_input = actions[0].groups()\n",
    "            if action not in known_actions:\n",
    "                raise Exception(\"Unknown action: {}: {}\".format(action, action_input))\n",
    "            if verbose: print(\" - running {} {}\".format(action, action_input))\n",
    "            observation = known_actions[action](action_input)\n",
    "            if verbose: print(\"Observation:\", observation)\n",
    "            next_prompt = \"Observation: {}\".format(observation)\n",
    "            if verbose:\n",
    "                print('_________________')\n",
    "\n",
    "\n",
    "    history.append('Human:' +question)\n",
    "    history.append('AI:' +answer)\n",
    "    if verbose: \n",
    "        print('history:', history)\n",
    "    return answer\n",
    "\n",
    "\n",
    "def wikipedia(q):\n",
    "    try:\n",
    "        return httpx.get(\"https://en.wikipedia.org/w/api.php\", params={\n",
    "            \"action\": \"query\",\n",
    "            \"list\": \"search\",\n",
    "            \"srsearch\": q,\n",
    "            \"format\": \"json\"\n",
    "        }).json()[\"query\"][\"search\"][0][\"snippet\"]\n",
    "    except Exception as e:\n",
    "        return str(e)\n",
    "\n",
    "def calculate(what):\n",
    "    try:\n",
    "        result = eval(what)\n",
    "        return result\n",
    "    except Exception as e:\n",
    "        return str(e)\n",
    "    \n",
    "result = None\n",
    "\n",
    "def pythonCode(code):\n",
    "    global result\n",
    "    try:\n",
    "        exec(code, globals())\n",
    "        return result\n",
    "    except Exception as e:\n",
    "        print('Code error:', str(e))\n",
    "        return str(e)\n",
    "\n",
    "known_actions = {\n",
    "    \"wikipedia\": wikipedia,\n",
    "    'pythonCode': pythonCode,\n",
    "    \"calculate\": calculate,\n",
    "    'getAvailTimes': getAvailTimes,\n",
    "    'scheduleTime': scheduleTime\n",
    "}"
   ]
  },
  {
   "cell_type": "code",
   "execution_count": 54,
   "id": "9c9955f4",
   "metadata": {},
   "outputs": [
    {
     "name": "stdout",
     "output_type": "stream",
     "text": [
      "[1], Thought: The user is asking for my name. As a scheduling assistant, my name is Joyce.\n",
      "Action: \n",
      "PAUSE\n",
      "Observation: \n",
      "Answer: My name is Joyce.\n",
      "history: ['Human:what is your name?', 'AI:Answer: My name is Joyce.']\n"
     ]
    },
    {
     "data": {
      "text/plain": [
       "' My name is Joyce.'"
      ]
     },
     "execution_count": 54,
     "metadata": {},
     "output_type": "execute_result"
    }
   ],
   "source": [
    "query('what is your name?', verbose=True)"
   ]
  },
  {
   "cell_type": "code",
   "execution_count": 10,
   "id": "64b6253e",
   "metadata": {},
   "outputs": [
    {
     "name": "stdout",
     "output_type": "stream",
     "text": [
      "[1], Thought: This is a simple arithmetic operation. I can calculate this using the 'calculate' action.\n",
      "Action: calculate: 17 * 31 - 1\n",
      "PAUSE\n",
      " - running calculate 17 * 31 - 1\n",
      "Observation: 526\n",
      "_________________\n",
      "[2], Answer: The result of the calculation is 526.\n",
      "history: ['Human:what is your name?', 'AI:Answer: My name is Joyce.', 'Human:Seventeen * thirty one minus 1', 'AI:Answer: The result of the calculation is 526.']\n"
     ]
    },
    {
     "data": {
      "text/plain": [
       "' The result of the calculation is 526.'"
      ]
     },
     "execution_count": 10,
     "metadata": {},
     "output_type": "execute_result"
    }
   ],
   "source": [
    "query(\"Seventeen * thirty one minus 1\", verbose=True)"
   ]
  },
  {
   "cell_type": "code",
   "execution_count": 11,
   "id": "1d6e435b",
   "metadata": {},
   "outputs": [
    {
     "name": "stdout",
     "output_type": "stream",
     "text": [
      "[1], Thought: I should look up Ukraine on Wikipedia to find out who the current president is.\n",
      "Action: wikipedia: President of Ukraine\n",
      "PAUSE\n",
      " - running wikipedia President of Ukraine\n",
      "Observation: The <span class=\"searchmatch\">president</span> <span class=\"searchmatch\">of</span> <span class=\"searchmatch\">Ukraine</span> (<span class=\"searchmatch\">Ukrainian</span>: Президент України, romanized: Prezydent Ukrainy) is the head <span class=\"searchmatch\">of</span> state <span class=\"searchmatch\">of</span> <span class=\"searchmatch\">Ukraine</span>. The <span class=\"searchmatch\">president</span> represents the nation\n",
      "_________________\n",
      "[2], Thought: The observation didn't provide the name of the current president of Ukraine. I should try again.\n",
      "Action: wikipedia: List of presidents of Ukraine\n",
      "PAUSE\n",
      " - running wikipedia List of presidents of Ukraine\n",
      "Observation: 1991 establishing the office <span class=\"searchmatch\">of</span> the &quot;<span class=\"searchmatch\">President</span> <span class=\"searchmatch\">of</span> the <span class=\"searchmatch\">Ukrainian</span> Soviet Socialist Republic.&quot; Upon the proclamation <span class=\"searchmatch\">of</span> <span class=\"searchmatch\">Ukrainian</span> independence from the Soviet\n",
      "_________________\n",
      "[3], Thought: The observation still didn't provide the name of the current president of Ukraine. I should try again.\n",
      "Action: wikipedia: Volodymyr Zelensky\n",
      "PAUSE\n",
      " - running wikipedia Volodymyr Zelensky\n",
      "Observation: <span class=\"searchmatch\">Volodymyr</span> Oleksandrovych Zelenskyy (also transliterated as <span class=\"searchmatch\">Zelensky</span> or Zelenskiy; born 25 January 1978) is a Ukrainian politician and former comedian\n",
      "_________________\n",
      "[4], Thought: The observation confirms that Volodymyr Zelensky is a Ukrainian politician, which suggests that he is the current president of Ukraine.\n",
      "Answer: The president of Ukraine is Volodymyr Zelensky.\n",
      "history: ['Human:what is your name?', 'AI:Answer: My name is Joyce.', 'Human:Seventeen * thirty one minus 1', 'AI:Answer: The result of the calculation is 526.', 'Human:who is the president of Ukraine?', 'AI:Answer: The president of Ukraine is Volodymyr Zelensky.']\n"
     ]
    },
    {
     "data": {
      "text/plain": [
       "' The president of Ukraine is Volodymyr Zelensky.'"
      ]
     },
     "execution_count": 11,
     "metadata": {},
     "output_type": "execute_result"
    }
   ],
   "source": [
    "query(\"who is the president of Ukraine?\", verbose=True)"
   ]
  },
  {
   "cell_type": "code",
   "execution_count": 68,
   "id": "c10de75b",
   "metadata": {},
   "outputs": [
    {
     "name": "stdout",
     "output_type": "stream",
     "text": [
      "[1], Thought: I can use Python's datetime module to get today's date.\n",
      "Action: pythonCode: import datetime; now = datetime.datetime.now(); result = now.strftime(\"%m/%d/%Y\")\n",
      " - running pythonCode import datetime; now = datetime.datetime.now(); result = now.strftime(\"%m/%d/%Y\")\n",
      "Observation: 07/07/2023\n",
      "_________________\n",
      "[2], Answer: Today's date is 07/07/2023.\n",
      "history: [\"Human:What is today's date?\", \"AI:Answer: Today's date is 07/07/2023.\"]\n"
     ]
    },
    {
     "data": {
      "text/plain": [
       "\" Today's date is 07/07/2023.\""
      ]
     },
     "execution_count": 68,
     "metadata": {},
     "output_type": "execute_result"
    }
   ],
   "source": [
    "query(\"What is today's date?\", verbose=True)"
   ]
  },
  {
   "cell_type": "code",
   "execution_count": 69,
   "id": "5f2a2f4b",
   "metadata": {},
   "outputs": [
    {
     "name": "stdout",
     "output_type": "stream",
     "text": [
      "[1], Thought: I can use Python's datetime module to determine the current day of the week.\n",
      "Action: pythonCode: import datetime; now = datetime.datetime.now(); result = now.strftime(\"%A\")\n",
      " - running pythonCode import datetime; now = datetime.datetime.now(); result = now.strftime(\"%A\")\n",
      "Observation: Friday\n",
      "_________________\n",
      "[2], Answer: Today is Friday.\n",
      "history: [\"Human:What is today's date?\", \"AI:Answer: Today's date is 07/07/2023.\", 'Human:What day of the week is it today?', 'AI:Answer: Today is Friday.']\n"
     ]
    },
    {
     "data": {
      "text/plain": [
       "' Today is Friday.'"
      ]
     },
     "execution_count": 69,
     "metadata": {},
     "output_type": "execute_result"
    }
   ],
   "source": [
    "query(\"What day of the week is it today?\", verbose=True)"
   ]
  },
  {
   "cell_type": "code",
   "execution_count": 14,
   "id": "0dc1efdf",
   "metadata": {},
   "outputs": [
    {
     "name": "stdout",
     "output_type": "stream",
     "text": [
      "[1], Thought: I need to calculate tomorrow's date and then determine the day of the week for that date.\n",
      "[2], Thought: I need to calculate tomorrow's date and then determine the day of the week for that date.\n",
      "Action: pythonCode: import datetime; tomorrow = datetime.datetime.now() + datetime.timedelta(days=1); result = tomorrow.strftime(\"%A\")\n",
      "PAUSE\n",
      " - running pythonCode import datetime; tomorrow = datetime.datetime.now() + datetime.timedelta(days=1); result = tomorrow.strftime(\"%A\")\n",
      "Observation: Saturday\n",
      "_________________\n",
      "[3], Answer: Tomorrow will be Saturday.\n",
      "history: ['Human:what is your name?', 'AI:Answer: My name is Joyce.', 'Human:Seventeen * thirty one minus 1', 'AI:Answer: The result of the calculation is 526.', 'Human:who is the president of Ukraine?', 'AI:Answer: The president of Ukraine is Volodymyr Zelensky.', \"Human:What is today's date?\", \"AI:Answer: Today's date is July 7, 2023.\", 'Human:What day of the week is it today?', 'AI:Answer: Today is Friday.', 'Human:What day of the week is it tomorrow?', 'AI:Answer: Tomorrow will be Saturday.']\n"
     ]
    },
    {
     "data": {
      "text/plain": [
       "' Tomorrow will be Saturday.'"
      ]
     },
     "execution_count": 14,
     "metadata": {},
     "output_type": "execute_result"
    }
   ],
   "source": [
    "query(\"What day of the week is it tomorrow?\", verbose=True)"
   ]
  },
  {
   "cell_type": "code",
   "execution_count": 15,
   "id": "e7da9b24",
   "metadata": {},
   "outputs": [
    {
     "name": "stdout",
     "output_type": "stream",
     "text": [
      "[1], Thought: I need to calculate the date of next Tuesday from today's date.\n",
      "Action: pythonCode: import datetime; today = datetime.datetime.now(); next_tuesday = today + datetime.timedelta((1-today.weekday() + 7) % 7); result = next_tuesday.strftime(\"%m/%d/%Y\")\n",
      " - running pythonCode import datetime; today = datetime.datetime.now(); next_tuesday = today + datetime.timedelta((1-today.weekday() + 7) % 7); result = next_tuesday.strftime(\"%m/%d/%Y\")\n",
      "Observation: 07/11/2023\n",
      "_________________\n",
      "[2], Answer: The date of next Tuesday is 07/11/2023.\n",
      "history: ['Human:what is your name?', 'AI:Answer: My name is Joyce.', 'Human:Seventeen * thirty one minus 1', 'AI:Answer: The result of the calculation is 526.', 'Human:who is the president of Ukraine?', 'AI:Answer: The president of Ukraine is Volodymyr Zelensky.', \"Human:What is today's date?\", \"AI:Answer: Today's date is July 7, 2023.\", 'Human:What day of the week is it today?', 'AI:Answer: Today is Friday.', 'Human:What day of the week is it tomorrow?', 'AI:Answer: Tomorrow will be Saturday.', \"Human:What's the date of next Tuesday?\", 'AI:Answer: The date of next Tuesday is 07/11/2023.']\n"
     ]
    },
    {
     "data": {
      "text/plain": [
       "' The date of next Tuesday is 07/11/2023.'"
      ]
     },
     "execution_count": 15,
     "metadata": {},
     "output_type": "execute_result"
    }
   ],
   "source": [
    "query(\"What's the date of next Tuesday?\", verbose=True)"
   ]
  },
  {
   "cell_type": "code",
   "execution_count": 16,
   "id": "b88266ff",
   "metadata": {},
   "outputs": [
    {
     "name": "stdout",
     "output_type": "stream",
     "text": [
      "[1], Thought: I need to calculate the date of the next Thursday from today's date.\n",
      "Action: pythonCode: import datetime; today = datetime.datetime.now(); next_thursday = today + datetime.timedelta((3-today.weekday() + 7) % 7); result = next_thursday.strftime(\"%m/%d/%Y\")\n",
      " - running pythonCode import datetime; today = datetime.datetime.now(); next_thursday = today + datetime.timedelta((3-today.weekday() + 7) % 7); result = next_thursday.strftime(\"%m/%d/%Y\")\n",
      "Observation: 07/13/2023\n",
      "_________________\n",
      "[2], Answer: The date of next Thursday is 07/13/2023.\n",
      "history: ['Human:what is your name?', 'AI:Answer: My name is Joyce.', 'Human:Seventeen * thirty one minus 1', 'AI:Answer: The result of the calculation is 526.', 'Human:who is the president of Ukraine?', 'AI:Answer: The president of Ukraine is Volodymyr Zelensky.', \"Human:What is today's date?\", \"AI:Answer: Today's date is July 7, 2023.\", 'Human:What day of the week is it today?', 'AI:Answer: Today is Friday.', 'Human:What day of the week is it tomorrow?', 'AI:Answer: Tomorrow will be Saturday.', \"Human:What's the date of next Tuesday?\", 'AI:Answer: The date of next Tuesday is 07/11/2023.', \"Human:What's the date of next Thursday?\", 'AI:Answer: The date of next Thursday is 07/13/2023.']\n"
     ]
    },
    {
     "data": {
      "text/plain": [
       "' The date of next Thursday is 07/13/2023.'"
      ]
     },
     "execution_count": 16,
     "metadata": {},
     "output_type": "execute_result"
    }
   ],
   "source": [
    "query(\"What's the date of next Thursday?\", verbose=True)"
   ]
  },
  {
   "cell_type": "code",
   "execution_count": 17,
   "id": "9d610de3",
   "metadata": {},
   "outputs": [
    {
     "name": "stdout",
     "output_type": "stream",
     "text": [
      "[1], Thought: I need to find out today's date and then check the available times for that date.\n",
      "Action: pythonCode: import datetime; now = datetime.datetime.now(); result = now.strftime(\"%m/%d/%y\")\n",
      " - running pythonCode import datetime; now = datetime.datetime.now(); result = now.strftime(\"%m/%d/%y\")\n",
      "Observation: 07/07/23\n",
      "_________________\n",
      "[2], Thought: Now that I have today's date, I can check the available times for appointments.\n",
      "Action: getAvailTimes: 07/07/23\n",
      " - running getAvailTimes 07/07/23\n",
      "Observation: hours available on 07/07/23 are 12:00, 13:00, 14:00, 15:00, 16:00 - all other times are reserved\n",
      "_________________\n",
      "[3], Thought: I have the available times for today.\n",
      "Answer: The available times for today, 07/07/23, are 12:00, 13:00, 14:00, 15:00, 16:00. All other times are reserved.\n",
      "history: ['Human:what is your name?', 'AI:Answer: My name is Joyce.', 'Human:Seventeen * thirty one minus 1', 'AI:Answer: The result of the calculation is 526.', 'Human:who is the president of Ukraine?', 'AI:Answer: The president of Ukraine is Volodymyr Zelensky.', \"Human:What is today's date?\", \"AI:Answer: Today's date is July 7, 2023.\", 'Human:What day of the week is it today?', 'AI:Answer: Today is Friday.', 'Human:What day of the week is it tomorrow?', 'AI:Answer: Tomorrow will be Saturday.', \"Human:What's the date of next Tuesday?\", 'AI:Answer: The date of next Tuesday is 07/11/2023.', \"Human:What's the date of next Thursday?\", 'AI:Answer: The date of next Thursday is 07/13/2023.', 'Human:What times are available today?', 'AI:Answer: The available times for today, 07/07/23, are 12:00, 13:00, 14:00, 15:00, 16:00. All other times are reserved.']\n"
     ]
    },
    {
     "data": {
      "text/plain": [
       "' The available times for today, 07/07/23, are 12:00, 13:00, 14:00, 15:00, 16:00. All other times are reserved.'"
      ]
     },
     "execution_count": 17,
     "metadata": {},
     "output_type": "execute_result"
    }
   ],
   "source": [
    "query(\"What times are available today?\", verbose=True)"
   ]
  },
  {
   "cell_type": "code",
   "execution_count": 18,
   "id": "b179ecb6",
   "metadata": {},
   "outputs": [
    {
     "name": "stdout",
     "output_type": "stream",
     "text": [
      "[1], Thought: The user didn't specify the month or the year for the 30th. I'll assume they mean the 30th of this current month. I need to find out today's date first to determine the current month and year. \n",
      "Action: pythonCode: import datetime; now = datetime.datetime.now(); result = now.strftime(\"%m/%d/%y\")\n",
      " - running pythonCode import datetime; now = datetime.datetime.now(); result = now.strftime(\"%m/%d/%y\")\n",
      "Observation: 07/07/23\n",
      "_________________\n",
      "[2], Thought: Today's date is July 7, 2023. The user is asking about the 30th of this month, so they mean July 30, 2023. I'll check the available times for that date.\n",
      "Action: getAvailTimes: 07/30/23\n",
      " - running getAvailTimes 07/30/23\n",
      "Observation: that day is entirely open, all times are available\n",
      "_________________\n",
      "[3], Thought: The entire day of July 30, 2023 is open. There are no scheduled appointments on that day.\n",
      "Answer: On July 30, 2023, all times are available for scheduling.\n",
      "history: ['Human:what is your name?', 'AI:Answer: My name is Joyce.', 'Human:Seventeen * thirty one minus 1', 'AI:Answer: The result of the calculation is 526.', 'Human:who is the president of Ukraine?', 'AI:Answer: The president of Ukraine is Volodymyr Zelensky.', \"Human:What is today's date?\", \"AI:Answer: Today's date is July 7, 2023.\", 'Human:What day of the week is it today?', 'AI:Answer: Today is Friday.', 'Human:What day of the week is it tomorrow?', 'AI:Answer: Tomorrow will be Saturday.', \"Human:What's the date of next Tuesday?\", 'AI:Answer: The date of next Tuesday is 07/11/2023.', \"Human:What's the date of next Thursday?\", 'AI:Answer: The date of next Thursday is 07/13/2023.', 'Human:What times are available today?', 'AI:Answer: The available times for today, 07/07/23, are 12:00, 13:00, 14:00, 15:00, 16:00. All other times are reserved.', 'Human:What times are available on the 30th?', 'AI:Answer: On July 30, 2023, all times are available for scheduling.']\n"
     ]
    },
    {
     "data": {
      "text/plain": [
       "' On July 30, 2023, all times are available for scheduling.'"
      ]
     },
     "execution_count": 18,
     "metadata": {},
     "output_type": "execute_result"
    }
   ],
   "source": [
    "query(\"What times are available on the 30th?\", verbose=True)"
   ]
  },
  {
   "cell_type": "code",
   "execution_count": 19,
   "id": "6fed3fab",
   "metadata": {},
   "outputs": [
    {
     "name": "stdout",
     "output_type": "stream",
     "text": [
      "[1], Thought: The user didn't specify the month and year for the 8th. I'll assume they mean the 8th of the current month and year. I need to find out today's date first to determine the current month and year. \n",
      "Action: pythonCode: import datetime; now = datetime.datetime.now(); result = now.strftime(\"%m/%d/%y\")\n",
      " - running pythonCode import datetime; now = datetime.datetime.now(); result = now.strftime(\"%m/%d/%y\")\n",
      "Observation: 07/07/23\n",
      "_________________\n",
      "[2], Thought: Today is July 7th, 2023. So, the user is asking about the earliest available time on July 8th, 2023. I'll check the available times for that date.\n",
      "Action: getAvailTimes: 07/08/23\n",
      " - running getAvailTimes 07/08/23\n",
      "Observation: hours available on 07/08/23 are 9:00, 10:00, 11:00, 13:00, 14:00, 15:00 - all other times are reserved\n",
      "_________________\n",
      "[3], Thought: The earliest available time on July 8th, 2023 is at 9:00.\n",
      "Answer: The earliest available time on July 8th, 2023 is at 9:00.\n",
      "history: ['Human:what is your name?', 'AI:Answer: My name is Joyce.', 'Human:Seventeen * thirty one minus 1', 'AI:Answer: The result of the calculation is 526.', 'Human:who is the president of Ukraine?', 'AI:Answer: The president of Ukraine is Volodymyr Zelensky.', \"Human:What is today's date?\", \"AI:Answer: Today's date is July 7, 2023.\", 'Human:What day of the week is it today?', 'AI:Answer: Today is Friday.', 'Human:What day of the week is it tomorrow?', 'AI:Answer: Tomorrow will be Saturday.', \"Human:What's the date of next Tuesday?\", 'AI:Answer: The date of next Tuesday is 07/11/2023.', \"Human:What's the date of next Thursday?\", 'AI:Answer: The date of next Thursday is 07/13/2023.', 'Human:What times are available today?', 'AI:Answer: The available times for today, 07/07/23, are 12:00, 13:00, 14:00, 15:00, 16:00. All other times are reserved.', 'Human:What times are available on the 30th?', 'AI:Answer: On July 30, 2023, all times are available for scheduling.', \"Human:What's the earliest time available on the 8th?\", 'AI:Answer: The earliest available time on July 8th, 2023 is at 9:00.']\n"
     ]
    },
    {
     "data": {
      "text/plain": [
       "' The earliest available time on July 8th, 2023 is at 9:00.'"
      ]
     },
     "execution_count": 19,
     "metadata": {},
     "output_type": "execute_result"
    }
   ],
   "source": [
    "query(\"What's the earliest time available on the 8th?\", verbose=True)"
   ]
  },
  {
   "cell_type": "code",
   "execution_count": 20,
   "id": "80e74960",
   "metadata": {},
   "outputs": [
    {
     "name": "stdout",
     "output_type": "stream",
     "text": [
      "[1], Thought: I need to find out the available times for tomorrow's date. First, I need to calculate tomorrow's date.\n",
      "Action: pythonCode: import datetime; now = datetime.datetime.now(); tomorrow = now + datetime.timedelta(days=1); result = tomorrow.strftime(\"%m/%d/%y\")\n",
      " - running pythonCode import datetime; now = datetime.datetime.now(); tomorrow = now + datetime.timedelta(days=1); result = tomorrow.strftime(\"%m/%d/%y\")\n",
      "Observation: 07/08/23\n",
      "_________________\n",
      "[2], Thought: Now that I have tomorrow's date, I can check the available times for that date.\n",
      "Action: getAvailTimes: 07/08/23\n",
      " - running getAvailTimes 07/08/23\n",
      "Observation: hours available on 07/08/23 are 9:00, 10:00, 11:00, 13:00, 14:00, 15:00 - all other times are reserved\n",
      "_________________\n",
      "[3], Thought: The latest available time tomorrow is 15:00.\n",
      "Answer: The latest time available tomorrow is 15:00.\n",
      "history: ['Human:what is your name?', 'AI:Answer: My name is Joyce.', 'Human:Seventeen * thirty one minus 1', 'AI:Answer: The result of the calculation is 526.', 'Human:who is the president of Ukraine?', 'AI:Answer: The president of Ukraine is Volodymyr Zelensky.', \"Human:What is today's date?\", \"AI:Answer: Today's date is July 7, 2023.\", 'Human:What day of the week is it today?', 'AI:Answer: Today is Friday.', 'Human:What day of the week is it tomorrow?', 'AI:Answer: Tomorrow will be Saturday.', \"Human:What's the date of next Tuesday?\", 'AI:Answer: The date of next Tuesday is 07/11/2023.', \"Human:What's the date of next Thursday?\", 'AI:Answer: The date of next Thursday is 07/13/2023.', 'Human:What times are available today?', 'AI:Answer: The available times for today, 07/07/23, are 12:00, 13:00, 14:00, 15:00, 16:00. All other times are reserved.', 'Human:What times are available on the 30th?', 'AI:Answer: On July 30, 2023, all times are available for scheduling.', \"Human:What's the earliest time available on the 8th?\", 'AI:Answer: The earliest available time on July 8th, 2023 is at 9:00.', \"Human:What's the latest time available tomorrow?\", 'AI:Answer: The latest time available tomorrow is 15:00.']\n"
     ]
    },
    {
     "data": {
      "text/plain": [
       "' The latest time available tomorrow is 15:00.'"
      ]
     },
     "execution_count": 20,
     "metadata": {},
     "output_type": "execute_result"
    }
   ],
   "source": [
    "query(\"What's the latest time available tomorrow?\", verbose=True)"
   ]
  },
  {
   "cell_type": "code",
   "execution_count": 21,
   "id": "79d0eab9",
   "metadata": {},
   "outputs": [
    {
     "name": "stdout",
     "output_type": "stream",
     "text": [
      "[1], Thought: I need to check the available times for today to understand why there aren't any.\n",
      "Action: pythonCode: import datetime; now = datetime.datetime.now(); result = now.strftime(\"%m/%d/%y\")\n",
      " - running pythonCode import datetime; now = datetime.datetime.now(); result = now.strftime(\"%m/%d/%y\")\n",
      "Observation: 07/07/23\n",
      "_________________\n",
      "[2], Thought: Now that I have the date, I can check the available times for today.\n",
      "Action: getAvailTimes: 07/07/23\n",
      " - running getAvailTimes 07/07/23\n",
      "Observation: hours available on 07/07/23 are 12:00, 13:00, 14:00, 15:00, 16:00 - all other times are reserved\n",
      "_________________\n",
      "[3], Thought: There are times available today, so the initial question might have been based on incorrect information or a misunderstanding.\n",
      "Answer: There are times available today. The available hours are 12:00, 13:00, 14:00, 15:00, and 16:00. All other times are reserved.\n",
      "history: ['Human:what is your name?', 'AI:Answer: My name is Joyce.', 'Human:Seventeen * thirty one minus 1', 'AI:Answer: The result of the calculation is 526.', 'Human:who is the president of Ukraine?', 'AI:Answer: The president of Ukraine is Volodymyr Zelensky.', \"Human:What is today's date?\", \"AI:Answer: Today's date is July 7, 2023.\", 'Human:What day of the week is it today?', 'AI:Answer: Today is Friday.', 'Human:What day of the week is it tomorrow?', 'AI:Answer: Tomorrow will be Saturday.', \"Human:What's the date of next Tuesday?\", 'AI:Answer: The date of next Tuesday is 07/11/2023.', \"Human:What's the date of next Thursday?\", 'AI:Answer: The date of next Thursday is 07/13/2023.', 'Human:What times are available today?', 'AI:Answer: The available times for today, 07/07/23, are 12:00, 13:00, 14:00, 15:00, 16:00. All other times are reserved.', 'Human:What times are available on the 30th?', 'AI:Answer: On July 30, 2023, all times are available for scheduling.', \"Human:What's the earliest time available on the 8th?\", 'AI:Answer: The earliest available time on July 8th, 2023 is at 9:00.', \"Human:What's the latest time available tomorrow?\", 'AI:Answer: The latest time available tomorrow is 15:00.', \"Human:why aren't there times available today?\", 'AI:Answer: There are times available today. The available hours are 12:00, 13:00, 14:00, 15:00, and 16:00. All other times are reserved.']\n"
     ]
    },
    {
     "data": {
      "text/plain": [
       "' There are times available today. The available hours are 12:00, 13:00, 14:00, 15:00, and 16:00. All other times are reserved.'"
      ]
     },
     "execution_count": 21,
     "metadata": {},
     "output_type": "execute_result"
    }
   ],
   "source": [
    "query(\"why aren't there times available today?\", verbose=True)"
   ]
  },
  {
   "cell_type": "code",
   "execution_count": 55,
   "id": "f4b75aaf",
   "metadata": {},
   "outputs": [
    {
     "name": "stdout",
     "output_type": "stream",
     "text": [
      "[1], Thought: The user wants to schedule an appointment for today at 7am. I need to check if the time slot is available.\n",
      "Action: getAvailTimes: {today}\n",
      " - running getAvailTimes {today}\n",
      "Observation: Unknown string format: {today}\n",
      "_________________\n",
      "[2], Thought: It seems there was an error with the date format. I need to format today's date correctly.\n",
      "Action: pythonCode: import datetime; now = datetime.datetime.now(); result = now.strftime(\"%m/%d/%y\")\n",
      " - running pythonCode import datetime; now = datetime.datetime.now(); result = now.strftime(\"%m/%d/%y\")\n",
      "Observation: 07/07/23\n",
      "_________________\n",
      "[3], Thought: Now that I have the correct date format, I can check the availability for today.\n",
      "Action: getAvailTimes: 07/07/23\n",
      "PAUSE\n",
      " - running getAvailTimes 07/07/23\n",
      "Observation: hours available on 07/07/23 are 10:00, 12:00, 15:00, 16:00, 17:00 - all other times are reserved\n",
      "_________________\n",
      "[4], Thought: The user requested a 7am slot, but it seems that time is not available. The earliest available time is 10am.\n",
      "Answer: I'm sorry, but the 7am slot is not available today. The earliest available time is 10am. Would that work for you?\n",
      "history: ['Human:what is your name?', 'AI:Answer: My name is Joyce.', \"Human:I'd like to come in at 7 this morning\", \"AI:Answer: I'm sorry, but the 7am slot is not available today. The earliest available time is 10am. Would that work for you?\"]\n"
     ]
    },
    {
     "data": {
      "text/plain": [
       "\" I'm sorry, but the 7am slot is not available today. The earliest available time is 10am. Would that work for you?\""
      ]
     },
     "execution_count": 55,
     "metadata": {},
     "output_type": "execute_result"
    }
   ],
   "source": [
    "query(\"I'd like to come in at 7 this morning\", verbose=True)"
   ]
  },
  {
   "cell_type": "code",
   "execution_count": 22,
   "id": "e8672ca5",
   "metadata": {},
   "outputs": [
    {
     "name": "stdout",
     "output_type": "stream",
     "text": [
      "[1], Thought: I need to schedule an appointment for today at 9am. First, I need to find out what today's date is.\n",
      "Action: pythonCode: import datetime; now = datetime.datetime.now(); result = now.strftime(\"%m/%d/%y\")\n",
      " - running pythonCode import datetime; now = datetime.datetime.now(); result = now.strftime(\"%m/%d/%y\")\n",
      "Observation: 07/07/23\n",
      "_________________\n",
      "[2], Thought: Now that I know today's date is 07/07/23, I can try to schedule the appointment at 9am.\n",
      "Action: scheduleTime: 07/07/23, 09:00\n",
      " - running scheduleTime 07/07/23, 09:00\n",
      "timeHour: 9\n",
      "Updated schedule json...\n",
      "Observation: appointment scheduled for  09:00 under name Todd Johnson\n",
      "_________________\n",
      "[3], Thought: The appointment has been successfully scheduled for 9am today under the name Todd Johnson.\n",
      "Answer: Your appointment has been scheduled for 9am today, under the name Todd Johnson.\n",
      "history: ['Human:what is your name?', 'AI:Answer: My name is Joyce.', 'Human:Seventeen * thirty one minus 1', 'AI:Answer: The result of the calculation is 526.', 'Human:who is the president of Ukraine?', 'AI:Answer: The president of Ukraine is Volodymyr Zelensky.', \"Human:What is today's date?\", \"AI:Answer: Today's date is July 7, 2023.\", 'Human:What day of the week is it today?', 'AI:Answer: Today is Friday.', 'Human:What day of the week is it tomorrow?', 'AI:Answer: Tomorrow will be Saturday.', \"Human:What's the date of next Tuesday?\", 'AI:Answer: The date of next Tuesday is 07/11/2023.', \"Human:What's the date of next Thursday?\", 'AI:Answer: The date of next Thursday is 07/13/2023.', 'Human:What times are available today?', 'AI:Answer: The available times for today, 07/07/23, are 12:00, 13:00, 14:00, 15:00, 16:00. All other times are reserved.', 'Human:What times are available on the 30th?', 'AI:Answer: On July 30, 2023, all times are available for scheduling.', \"Human:What's the earliest time available on the 8th?\", 'AI:Answer: The earliest available time on July 8th, 2023 is at 9:00.', \"Human:What's the latest time available tomorrow?\", 'AI:Answer: The latest time available tomorrow is 15:00.', \"Human:why aren't there times available today?\", 'AI:Answer: There are times available today. The available hours are 12:00, 13:00, 14:00, 15:00, and 16:00. All other times are reserved.', 'Human:please reserve 9am today for me', 'AI:Answer: Your appointment has been scheduled for 9am today, under the name Todd Johnson.']\n"
     ]
    },
    {
     "data": {
      "text/plain": [
       "' Your appointment has been scheduled for 9am today, under the name Todd Johnson.'"
      ]
     },
     "execution_count": 22,
     "metadata": {},
     "output_type": "execute_result"
    }
   ],
   "source": [
    "query(\"please reserve 9am today for me\", verbose=True)"
   ]
  },
  {
   "cell_type": "code",
   "execution_count": 24,
   "id": "00e0e638",
   "metadata": {},
   "outputs": [
    {
     "name": "stdout",
     "output_type": "stream",
     "text": [
      "[1], Thought: I need to find out today's date and then check the available times for that date.\n",
      "Action: pythonCode: import datetime; now = datetime.datetime.now(); result = now.strftime(\"%m/%d/%y\")\n",
      " - running pythonCode import datetime; now = datetime.datetime.now(); result = now.strftime(\"%m/%d/%y\")\n",
      "Observation: 07/07/23\n",
      "_________________\n",
      "[2], Thought: Now that I have today's date, I can check the available times for appointments.\n",
      "Action: getAvailTimes: 07/07/23\n",
      " - running getAvailTimes 07/07/23\n",
      "Observation: hours available on 07/07/23 are 12:00, 13:00, 14:00, 15:00, 16:00 - all other times are reserved\n",
      "_________________\n",
      "[3], Thought: I have the available times for today's date.\n",
      "Answer: The available times for today, 07/07/23, are 12:00, 13:00, 14:00, 15:00, 16:00. All other times are reserved.\n",
      "history: ['Human:what is your name?', 'AI:Answer: My name is Joyce.', 'Human:Seventeen * thirty one minus 1', 'AI:Answer: The result of the calculation is 526.', 'Human:who is the president of Ukraine?', 'AI:Answer: The president of Ukraine is Volodymyr Zelensky.', \"Human:What is today's date?\", \"AI:Answer: Today's date is July 7, 2023.\", 'Human:What day of the week is it today?', 'AI:Answer: Today is Friday.', 'Human:What day of the week is it tomorrow?', 'AI:Answer: Tomorrow will be Saturday.', \"Human:What's the date of next Tuesday?\", 'AI:Answer: The date of next Tuesday is 07/11/2023.', \"Human:What's the date of next Thursday?\", 'AI:Answer: The date of next Thursday is 07/13/2023.', 'Human:What times are available today?', 'AI:Answer: The available times for today, 07/07/23, are 12:00, 13:00, 14:00, 15:00, 16:00. All other times are reserved.', 'Human:What times are available on the 30th?', 'AI:Answer: On July 30, 2023, all times are available for scheduling.', \"Human:What's the earliest time available on the 8th?\", 'AI:Answer: The earliest available time on July 8th, 2023 is at 9:00.', \"Human:What's the latest time available tomorrow?\", 'AI:Answer: The latest time available tomorrow is 15:00.', \"Human:why aren't there times available today?\", 'AI:Answer: There are times available today. The available hours are 12:00, 13:00, 14:00, 15:00, and 16:00. All other times are reserved.', 'Human:please reserve 9am today for me', 'AI:Answer: Your appointment has been scheduled for 9am today, under the name Todd Johnson.', \"Human:what's your name?\", 'AI:Answer: My name is Joyce.', 'Human:What times are available today?', 'AI:Answer: The available times for today, 07/07/23, are 12:00, 13:00, 14:00, 15:00, 16:00. All other times are reserved.']\n"
     ]
    },
    {
     "data": {
      "text/plain": [
       "' The available times for today, 07/07/23, are 12:00, 13:00, 14:00, 15:00, 16:00. All other times are reserved.'"
      ]
     },
     "execution_count": 24,
     "metadata": {},
     "output_type": "execute_result"
    }
   ],
   "source": [
    "query(\"What times are available today?\", verbose=True)"
   ]
  },
  {
   "cell_type": "code",
   "execution_count": 56,
   "id": "518e9459",
   "metadata": {},
   "outputs": [
    {
     "name": "stdout",
     "output_type": "stream",
     "text": [
      "[1], Thought: I need to schedule an appointment for today at 9am.\n",
      "Action: pythonCode: import datetime; now = datetime.datetime.now(); result = now.strftime(\"%m/%d/%y\")\n",
      " - running pythonCode import datetime; now = datetime.datetime.now(); result = now.strftime(\"%m/%d/%y\")\n",
      "Observation: 07/07/23\n",
      "_________________\n",
      "[2], Thought: Now that I have the date, I can schedule the appointment.\n",
      "Action: scheduleTime: 07/07/23, 09:00\n",
      " - running scheduleTime 07/07/23, 09:00\n",
      "Observation: sorry that time (09:00) on 07/07/23 is not available\n",
      "_________________\n",
      "[3], Thought: The requested time is not available. I should find out what times are available for today.\n",
      "Action: getAvailTimes: 07/07/23\n",
      " - running getAvailTimes 07/07/23\n",
      "Observation: hours available on 07/07/23 are 10:00, 12:00, 15:00, 16:00, 17:00 - all other times are reserved\n",
      "_________________\n",
      "[4], Thought: The available times for today are 10:00, 12:00, 15:00, 16:00, and 17:00. The user requested 9:00 which is not available.\n",
      "Answer: I'm sorry, but 9:00 is not available today. The available times are 10:00, 12:00, 15:00, 16:00, and 17:00. Please choose one of these times.\n",
      "history: ['Human:what is your name?', 'AI:Answer: My name is Joyce.', \"Human:I'd like to come in at 7 this morning\", \"AI:Answer: I'm sorry, but the 7am slot is not available today. The earliest available time is 10am. Would that work for you?\", 'Human:please reserve 9am today for me', \"AI:Answer: I'm sorry, but 9:00 is not available today. The available times are 10:00, 12:00, 15:00, 16:00, and 17:00. Please choose one of these times.\"]\n"
     ]
    },
    {
     "data": {
      "text/plain": [
       "\" I'm sorry, but 9:00 is not available today. The available times are 10:00, 12:00, 15:00, 16:00, and 17:00. Please choose one of these times.\""
      ]
     },
     "execution_count": 56,
     "metadata": {},
     "output_type": "execute_result"
    }
   ],
   "source": [
    "query(\"please reserve 9am today for me\", verbose=True)"
   ]
  },
  {
   "cell_type": "code",
   "execution_count": null,
   "id": "328287a6",
   "metadata": {},
   "outputs": [],
   "source": []
  }
 ],
 "metadata": {
  "kernelspec": {
   "display_name": "Python 3 (ipykernel)",
   "language": "python",
   "name": "python3"
  },
  "language_info": {
   "codemirror_mode": {
    "name": "ipython",
    "version": 3
   },
   "file_extension": ".py",
   "mimetype": "text/x-python",
   "name": "python",
   "nbconvert_exporter": "python",
   "pygments_lexer": "ipython3",
   "version": "3.8.10"
  }
 },
 "nbformat": 4,
 "nbformat_minor": 5
}
