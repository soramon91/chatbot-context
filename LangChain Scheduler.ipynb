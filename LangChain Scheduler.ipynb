{
 "cells": [
  {
   "cell_type": "code",
   "execution_count": 30,
   "id": "ad7cbb49",
   "metadata": {},
   "outputs": [],
   "source": [
    "# langChainFuncs.py\n",
    "\n",
    "from langchain import OpenAI\n",
    "from langchain.chat_models import ChatOpenAI\n",
    "from langchain.agents import initialize_agent, Tool\n",
    "from langchain.chains import PALChain\n",
    "from langchain.chains.conversation.memory import ConversationBufferMemory\n",
    "from langchain import PromptTemplate, LLMChain\n",
    "\n",
    "import streamlit as st\n",
    "import os \n",
    "from dateutil import parser\n",
    "import datetime\n",
    "import calendar\n",
    "import random\n",
    "import json\n",
    "from faker import Faker"
   ]
  },
  {
   "cell_type": "code",
   "execution_count": 23,
   "id": "fa71d47f",
   "metadata": {},
   "outputs": [],
   "source": [
    "\n",
    "fake = Faker()\n",
    "today = datetime.datetime.now()\n",
    "hours = (9, 18)   # open hours\n",
    "\n",
    "######### utility functions for scheduling\n",
    "\n",
    "# create random schedule\n",
    "def createSchedule(daysAhead=5, perDay=5):\n",
    "    schedule = {}\n",
    "    for d in range(0, daysAhead):\n",
    "        date = (today + datetime.timedelta(days=d)).strftime('%m/%d/%y')\n",
    "        schedule[date] = {}\n",
    "\n",
    "        for h in range(0, perDay -d):\n",
    "            hour = random.randint(hours[0], hours[1])\n",
    "            if hour not in schedule[date]:\n",
    "                schedule[date][hour] = fake.name()\n",
    "                \n",
    "    return schedule\n",
    "\n",
    "# get available times for a date\n",
    "def getAvailTimes(date, num=10):\n",
    "    schedule = loadSchedule()\n",
    "\n",
    "    if '/' not in date or 'mm' in date:\n",
    "        return 'date parameter must be in format: mm/dd/yy'\n",
    "\n",
    "    if date not in schedule:\n",
    "        return 'that day is entirely open, all times are available'\n",
    "\n",
    "    hoursAvail = 'hours available on %s are ' % date\n",
    "\n",
    "    for h in range(hours[0], hours[1]):\n",
    "        if str(h) not in schedule[date]:\n",
    "            hoursAvail += str(h) +':00, '\n",
    "            num -= 1\n",
    "            if num == 0:\n",
    "                break\n",
    "    \n",
    "    if num > 0:\n",
    "        hoursAvail = hoursAvail[:-2] +' - all other times are reserved'\n",
    "    else:\n",
    "        hoursAvail = hoursAvail[:-2]\n",
    "        \n",
    "    return hoursAvail\n",
    "\n",
    "# schedule available time\n",
    "def scheduleTime(dateTime):\n",
    "    schedule = loadSchedule()\n",
    "\n",
    "    date, time = dateTime.split(',')\n",
    "    \n",
    "    if not date or not time:\n",
    "        return \"sorry parameters must be date and time comma separated, for example: `12/31/23, 10:00` would be the input if for Dec 31'st 2023 at 10am\"\n",
    "\n",
    "    # get hours\n",
    "    if ':' in time:\n",
    "        timeHour = int(time[:time.index(':')])\n",
    "        print(timeHour)\n",
    "        \n",
    "        if timeHour not in schedule[date]:\n",
    "            if timeHour >= hours[0] and timeHour <= hours[1]:\n",
    "                schedule[date][timeHour] = fake.name()\n",
    "                saveSchedule(schedule)\n",
    "                print('Updated schedule json...')\n",
    "                return 'thank you, appointment scheduled for %s under name %s' % (time, schedule[date][timeHour])\n",
    "            else:\n",
    "                return '%s is after hours, please select a time during business hours' % time\n",
    "        else:\n",
    "            return 'sorry that time (%s) on %s is not available' % (time, date)\n",
    "    else:\n",
    "        return '%s is not a valid time, time must be in format hh:mm'\n",
    "    \n",
    "# save schedule json\n",
    "def saveSchedule(schedule):\n",
    "    with open('schedule.json', 'w') as f:\n",
    "        json.dump(schedule, f)\n",
    "    \n",
    "# load schedule json\n",
    "def loadSchedule():\n",
    "    global schedule\n",
    "    \n",
    "    with open('schedule.json') as json_file:\n",
    "        return json.load(json_file)\n",
    "\n",
    "# get today's date\n",
    "def todayDate():\n",
    "    return today.strftime('%m/%d/%y')\n",
    "\n",
    "# get day of week for a date (or 'today')\n",
    "def dayOfWeek(date):\n",
    "    if date == 'today':\n",
    "        return calendar.day_name[today.weekday()]\n",
    "    else:\n",
    "        try:\n",
    "            theDate = parser.parse(date)\n",
    "        except:\n",
    "            return 'invalid date format, please use format: mm/dd/yy'\n",
    "        \n",
    "        return calendar.day_name[theDate.weekday()]\n",
    "    \n",
    "#########"
   ]
  },
  {
   "cell_type": "code",
   "execution_count": 24,
   "id": "22a67572",
   "metadata": {},
   "outputs": [],
   "source": [
    "os.environ['OPENAI_API_KEY'] = 'YOUR API KEY'\n",
    "\n",
    "llm = OpenAI(temperature=0, verbose=True)\n",
    "#llm = ChatOpenAI(model='gpt-3.5-turbo',temperature=0, verbose=True)\n",
    "\n",
    "pal_chain = PALChain.from_math_prompt(llm, verbose=True)\n",
    "\n",
    "\n",
    "tools = [\n",
    "    Tool(\n",
    "        name = \"today's date\",\n",
    "        func = lambda string: todayDate(),\n",
    "        description=\"use to get today's date\",\n",
    "        ),\n",
    "    Tool(\n",
    "        name = \"day of the week\",\n",
    "        func = lambda string: dayOfWeek(string),\n",
    "        description=\"use to get the day of the week, input is 'today' or date using format mm/dd/yy\",\n",
    "        ),\n",
    "    Tool(\n",
    "        name = 'available appointments',\n",
    "        func = lambda string: getAvailTimes(string),\n",
    "        description=\"Use to check on available appointment times for a given date. The input to this tool should be a string in this format mm/dd/yy. This is the only way for you to answer questions about available appointments. This tool will reply with available times for the specified date in 24hour time, for example: 15:00 and 3pm are the same.\",\n",
    "        ),\n",
    "    Tool(\n",
    "        name = 'schedule appointment',\n",
    "        func = lambda string: scheduleTime(string),\n",
    "        description=\"Use to schedule an appointment for a given date and time. The input to this tool should be a comma separated list of 2 strings: date and time in format: mm/dd/yy, hh:mm, convert date and time to these formats. For example, `12/31/23, 10:00` would be the input if for Dec 31'st 2023 at 10am\",\n",
    "        ),\n",
    "    Tool(\n",
    "        name = \"PAL\",\n",
    "        func = pal_chain.run,\n",
    "        description = \"useful for when you need to answer questions about math or word problems or date comparisons\"\n",
    "        )\n",
    "    ]\n"
   ]
  },
  {
   "cell_type": "code",
   "execution_count": 25,
   "id": "6bba6c9c",
   "metadata": {},
   "outputs": [],
   "source": [
    "memory = ConversationBufferMemory(memory_key=\"chat_history\")\n",
    "agent_chain = initialize_agent(tools, llm, agent='zero-shot-react-description', memory=memory, verbose=True)"
   ]
  },
  {
   "cell_type": "code",
   "execution_count": 26,
   "id": "1451bdbe",
   "metadata": {},
   "outputs": [
    {
     "name": "stdout",
     "output_type": "stream",
     "text": [
      "\n",
      "\n",
      "\u001b[1m> Entering new AgentExecutor chain...\u001b[0m\n",
      "\u001b[32;1m\u001b[1;3m I need to know what today's date is first.\n",
      "Action: today's date\n",
      "Action Input: \u001b[0m\n",
      "Observation: \u001b[36;1m\u001b[1;3m04/12/23\u001b[0m\n",
      "Thought:\u001b[32;1m\u001b[1;3m I need to add one day to the date\n",
      "Action: PAL\n",
      "Action Input: 04/12/23 + 1 day\u001b[0m\n",
      "\n",
      "\u001b[1m> Entering new PALChain chain...\u001b[0m\n",
      "\u001b[32;1m\u001b[1;3mdef solution():\n",
      "    \"\"\"04/12/23 + 1 day\"\"\"\n",
      "    day = 1\n",
      "    date = \"04/12/23\"\n",
      "    date_list = date.split(\"/\")\n",
      "    month = int(date_list[0])\n",
      "    day_of_month = int(date_list[1])\n",
      "    year = int(date_list[2])\n",
      "    day_of_month += day\n",
      "    if day_of_month > 30:\n",
      "        day_of_month -= 30\n",
      "        month += 1\n",
      "    if month > 12:\n",
      "        month -= 12\n",
      "        year += 1\n",
      "    result = f\"{month:02d}/{day_of_month:02d}/{year:02d}\"\n",
      "    return result\u001b[0m\n",
      "\n",
      "\u001b[1m> Finished chain.\u001b[0m\n",
      "\n",
      "Observation: \u001b[36;1m\u001b[1;3m04/13/23\u001b[0m\n",
      "Thought:\u001b[32;1m\u001b[1;3m I now know the final answer\n",
      "Final Answer: Tomorrow's date is 04/13/23.\u001b[0m\n",
      "\n",
      "\u001b[1m> Finished chain.\u001b[0m\n"
     ]
    },
    {
     "data": {
      "text/plain": [
       "\"Tomorrow's date is 04/13/23.\""
      ]
     },
     "execution_count": 26,
     "metadata": {},
     "output_type": "execute_result"
    }
   ],
   "source": [
    "user_input = \"What's the date tomorrow?\"\n",
    "agent_chain.run(input=user_input)"
   ]
  },
  {
   "cell_type": "code",
   "execution_count": 27,
   "id": "27c78b43",
   "metadata": {},
   "outputs": [
    {
     "name": "stdout",
     "output_type": "stream",
     "text": [
      "\n",
      "\n",
      "\u001b[1m> Entering new AgentExecutor chain...\u001b[0m\n",
      "\u001b[32;1m\u001b[1;3m I need to check the available appointments tool\n",
      "Action: available appointments\n",
      "Action Input: today's date\u001b[0m\n",
      "Observation: \u001b[38;5;200m\u001b[1;3mdate parameter must be in format: mm/dd/yy\u001b[0m\n",
      "Thought:\u001b[32;1m\u001b[1;3m I need to convert today's date to the correct format\n",
      "Action: today's date\n",
      "Action Input: none\u001b[0m\n",
      "Observation: \u001b[36;1m\u001b[1;3m04/12/23\u001b[0m\n",
      "Thought:\u001b[32;1m\u001b[1;3m I now have the correct date format\n",
      "Action: available appointments\n",
      "Action Input: 04/12/23\u001b[0m\n",
      "Observation: \u001b[38;5;200m\u001b[1;3mhours available on 04/12/23 are 10:00, 15:00, 16:00, 17:00 - all other times are reserved\u001b[0m\n",
      "Thought:\u001b[32;1m\u001b[1;3m I now know the final answer\n",
      "Final Answer: The available times for today (04/12/23) are 10:00, 15:00, 16:00, 17:00.\u001b[0m\n",
      "\n",
      "\u001b[1m> Finished chain.\u001b[0m\n"
     ]
    },
    {
     "data": {
      "text/plain": [
       "'The available times for today (04/12/23) are 10:00, 15:00, 16:00, 17:00.'"
      ]
     },
     "execution_count": 27,
     "metadata": {},
     "output_type": "execute_result"
    }
   ],
   "source": [
    "user_input = \"what times are available today?\"\n",
    "agent_chain.run(input=user_input)"
   ]
  },
  {
   "cell_type": "code",
   "execution_count": 28,
   "id": "e33ffeef",
   "metadata": {},
   "outputs": [
    {
     "name": "stdout",
     "output_type": "stream",
     "text": [
      "\n",
      "\n",
      "\u001b[1m> Entering new AgentExecutor chain...\u001b[0m\n",
      "\u001b[32;1m\u001b[1;3m I need to check the available appointments tool\n",
      "Action: available appointments\n",
      "Action Input: tomorrow's date in mm/dd/yy format\u001b[0m\n",
      "Observation: \u001b[38;5;200m\u001b[1;3mdate parameter must be in format: mm/dd/yy\u001b[0m\n",
      "Thought:\u001b[32;1m\u001b[1;3m I need to get tomorrow's date\n",
      "Action: today's date\n",
      "Action Input: none\u001b[0m\n",
      "Observation: \u001b[36;1m\u001b[1;3m04/12/23\u001b[0m\n",
      "Thought:\u001b[32;1m\u001b[1;3m I now have tomorrow's date\n",
      "Action: available appointments\n",
      "Action Input: 04/13/23\u001b[0m\n",
      "Observation: \u001b[38;5;200m\u001b[1;3mhours available on 04/13/23 are 9:00, 15:00, 16:00 - all other times are reserved\u001b[0m\n",
      "Thought:\u001b[32;1m\u001b[1;3m I now know the final answer\n",
      "Final Answer: The available times for tomorrow (04/13/23) are 9:00, 15:00, and 16:00.\u001b[0m\n",
      "\n",
      "\u001b[1m> Finished chain.\u001b[0m\n"
     ]
    },
    {
     "data": {
      "text/plain": [
       "'The available times for tomorrow (04/13/23) are 9:00, 15:00, and 16:00.'"
      ]
     },
     "execution_count": 28,
     "metadata": {},
     "output_type": "execute_result"
    }
   ],
   "source": [
    "user_input = \"what times are available tomorrow?\"\n",
    "agent_chain.run(input=user_input)"
   ]
  },
  {
   "cell_type": "code",
   "execution_count": 31,
   "id": "b8c6bd5f",
   "metadata": {},
   "outputs": [
    {
     "name": "stdout",
     "output_type": "stream",
     "text": [
      "\n",
      "\n",
      "\u001b[1m> Entering new AgentExecutor chain...\u001b[0m\n",
      "\u001b[32;1m\u001b[1;3m I need to know what today's date is first\n",
      "Action: today's date\n",
      "Action Input: none\u001b[0m\n",
      "Observation: \u001b[36;1m\u001b[1;3m04/12/23\u001b[0m\n",
      "Thought:\u001b[32;1m\u001b[1;3m I need to use the day of the week tool to get the day of the week for tomorrow\n",
      "Action: day of the week\n",
      "Action Input: 04/13/23\u001b[0m\n",
      "Observation: \u001b[33;1m\u001b[1;3mThursday\u001b[0m\n",
      "Thought:\u001b[32;1m\u001b[1;3m I now know the final answer\n",
      "Final Answer: Tomorrow is Thursday.\u001b[0m\n",
      "\n",
      "\u001b[1m> Finished chain.\u001b[0m\n"
     ]
    },
    {
     "data": {
      "text/plain": [
       "'Tomorrow is Thursday.'"
      ]
     },
     "execution_count": 31,
     "metadata": {},
     "output_type": "execute_result"
    }
   ],
   "source": [
    "user_input = \"what day of the week is tomorrow?\"\n",
    "agent_chain.run(input=user_input)"
   ]
  },
  {
   "cell_type": "code",
   "execution_count": 16,
   "id": "111c3923",
   "metadata": {},
   "outputs": [
    {
     "name": "stdout",
     "output_type": "stream",
     "text": [
      "\n",
      "\n",
      "\u001b[1m> Entering new AgentExecutor chain...\u001b[0m\n",
      "\u001b[32;1m\u001b[1;3m I need to figure out what date the day after tomorrow is\n",
      "Action: today's date\n",
      "Action Input: none\u001b[0m\n",
      "Observation: \u001b[36;1m\u001b[1;3m04/12/23\u001b[0m\n",
      "Thought:\u001b[32;1m\u001b[1;3m I need to check what times are available for that date\n",
      "Action: available appointments\n",
      "Action Input: 04/12/23\u001b[0m\n",
      "Observation: \u001b[33;1m\u001b[1;3mhours available on 04/12/23 are 10:00, 15:00, 16:00, 17:00 - all other times are reserved\u001b[0m\n",
      "Thought:\u001b[32;1m\u001b[1;3m I now know the final answer\n",
      "Final Answer: The times available the day after tomorrow are 10:00, 15:00, 16:00, and 17:00.\u001b[0m\n",
      "\n",
      "\u001b[1m> Finished chain.\u001b[0m\n"
     ]
    },
    {
     "data": {
      "text/plain": [
       "'The times available the day after tomorrow are 10:00, 15:00, 16:00, and 17:00.'"
      ]
     },
     "execution_count": 16,
     "metadata": {},
     "output_type": "execute_result"
    }
   ],
   "source": [
    "user_input = \"what times are available the day after tomorrow?\"\n",
    "agent_chain.run(input=user_input)"
   ]
  },
  {
   "cell_type": "code",
   "execution_count": 10,
   "id": "0e588454",
   "metadata": {},
   "outputs": [
    {
     "data": {
      "text/plain": [
       "{'04/11/23': {'15': 'Shane Clark',\n",
       "  '9': 'Brittany Barber',\n",
       "  '11': 'Albert Wong',\n",
       "  '12': 'Julie Lopez',\n",
       "  '14': 'John Walker',\n",
       "  '17': 'Dennis Wright',\n",
       "  '13': 'James Leonard',\n",
       "  '16': 'Natasha Frazier',\n",
       "  '10': 'Robert Powell'},\n",
       " '04/12/23': {'12': 'Richard Ramos',\n",
       "  '11': 'Jacob Garza',\n",
       "  '9': 'Robin Spence',\n",
       "  '13': 'Rachel Holmes',\n",
       "  '14': 'Steven Robinson'},\n",
       " '04/13/23': {'12': 'Brandy Hernandez',\n",
       "  '14': 'Christopher Robinson',\n",
       "  '17': 'Christy Todd',\n",
       "  '13': 'Bruce Jones',\n",
       "  '11': 'Mark Joyce',\n",
       "  '10': 'Matthew Whitehead'},\n",
       " '04/14/23': {'16': 'Stephen Smith',\n",
       "  '17': 'Shannon Murillo',\n",
       "  '13': 'Sarah Munoz',\n",
       "  '15': 'Nathan Parker'},\n",
       " '04/15/23': {'12': 'Brittany Brown', '15': 'Rebecca Graham'}}"
      ]
     },
     "execution_count": 10,
     "metadata": {},
     "output_type": "execute_result"
    }
   ],
   "source": [
    "loadSchedule()"
   ]
  },
  {
   "cell_type": "code",
   "execution_count": null,
   "id": "2f304c6d",
   "metadata": {},
   "outputs": [],
   "source": []
  }
 ],
 "metadata": {
  "kernelspec": {
   "display_name": "Python 3 (ipykernel)",
   "language": "python",
   "name": "python3"
  },
  "language_info": {
   "codemirror_mode": {
    "name": "ipython",
    "version": 3
   },
   "file_extension": ".py",
   "mimetype": "text/x-python",
   "name": "python",
   "nbconvert_exporter": "python",
   "pygments_lexer": "ipython3",
   "version": "3.8.10"
  }
 },
 "nbformat": 4,
 "nbformat_minor": 5
}
