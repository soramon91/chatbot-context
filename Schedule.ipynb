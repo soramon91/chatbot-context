{
 "cells": [
  {
   "cell_type": "code",
   "execution_count": 84,
   "id": "96e5cb55",
   "metadata": {},
   "outputs": [],
   "source": [
    "from dateutil import parser\n",
    "import datetime\n",
    "import random\n",
    "import json\n",
    "from faker import Faker\n",
    "fake = Faker()"
   ]
  },
  {
   "cell_type": "code",
   "execution_count": 171,
   "id": "e7b30e9d",
   "metadata": {},
   "outputs": [],
   "source": [
    "schedule = {}\n",
    "today = datetime.datetime.now()\n",
    "hours = (9, 17)   # open hours\n",
    "\n",
    "# create random schedule\n",
    "def createSchedule(daysAhead=5, perDay=8):\n",
    "    schedule = {}\n",
    "    for d in range(0, daysAhead):\n",
    "        date = (today + datetime.timedelta(days=d)).strftime('%m/%d/%y')\n",
    "        schedule[date] = {}\n",
    "\n",
    "        for h in range(0, perDay -d):\n",
    "            hour = random.randint(hours[0], hours[1])\n",
    "            if hour not in schedule[date]:\n",
    "                schedule[date][hour] = fake.name()\n",
    "                \n",
    "    return schedule\n",
    "\n",
    "# get available times for a date\n",
    "def getAvailTimes(date, num=10):\n",
    "    if '/' not in date:\n",
    "        return 'date parameter must be in format: mm/dd/yy'\n",
    "    \n",
    "    if date not in schedule:\n",
    "        return 'that day is entirely open, all times are available'\n",
    "    \n",
    "    hoursAvail = 'hours available on %s are ' % date\n",
    "    for h in range(hours[0], hours[1]):\n",
    "        if str(h) not in schedule[date]:\n",
    "            hoursAvail += str(h) +':00, '\n",
    "            num -= 1\n",
    "            if num == 0:\n",
    "                break\n",
    "    \n",
    "    if num > 0:\n",
    "        hoursAvail = hoursAvail[:-2] +' - all other times are reserved'\n",
    "    else:\n",
    "        hoursAvail = hoursAvail[:-2]\n",
    "        \n",
    "    return hoursAvail\n",
    "\n",
    "# schedule available time\n",
    "def scheduleTime(dateTime):\n",
    "    date, time = dateTime.split(',')\n",
    "    \n",
    "    if not date or not time:\n",
    "        return \"sorry parameters must be date and time comma separated, for example: `12/31/23, 10:00` would be the input if for Dec 31'st 2023 at 10am\"\n",
    "    if date not in schedule:\n",
    "        return 'no schedule available yet for this date'\n",
    "\n",
    "    # get hours\n",
    "    if ':' in time:\n",
    "        timeHour = int(time[:time.index(':')])\n",
    "        print(timeHour)\n",
    "        \n",
    "        if timeHour not in schedule[date]:\n",
    "            if timeHour >= hours[0] and timeHour <= hours[1]:\n",
    "                schedule[date][timeHour] = fake.name()\n",
    "                saveSchedule()\n",
    "                return 'thank you, appointment scheduled for %s under name %s' % (time, schedule[date][timeHour])\n",
    "            else:\n",
    "                return '%s is after hours, please select a time during business hours' % time\n",
    "        else:\n",
    "            return 'sorry that time (%s) on %s is not available' % (time, date)\n",
    "    else:\n",
    "        return '%s is not a valid time, time must be in format hh:mm'\n",
    "    \n",
    "# save schedule json\n",
    "def saveSchedule(schedule):\n",
    "    with open('schedule.json', 'w') as f:\n",
    "        json.dump(schedule, f)\n",
    "    \n",
    "# load schedule json\n",
    "def loadSchedule():\n",
    "    global schedule\n",
    "    \n",
    "    with open('schedule.json') as json_file:\n",
    "        return json.load(json_file)"
   ]
  },
  {
   "cell_type": "code",
   "execution_count": 172,
   "id": "1a3f2c93",
   "metadata": {},
   "outputs": [
    {
     "data": {
      "text/plain": [
       "'hours available on 04/15/23 are 9:00, 10:00, 11:00, 12:00, 13:00, 14:00, 15:00, 16:00 - all other times are reserved'"
      ]
     },
     "execution_count": 172,
     "metadata": {},
     "output_type": "execute_result"
    }
   ],
   "source": [
    "schedule = createSchedule()\n",
    "getAvailTimes('04/15/23')"
   ]
  },
  {
   "cell_type": "code",
   "execution_count": 173,
   "id": "be2c81fc",
   "metadata": {},
   "outputs": [],
   "source": [
    "saveSchedule(schedule)"
   ]
  },
  {
   "cell_type": "code",
   "execution_count": 175,
   "id": "aea7e86e",
   "metadata": {},
   "outputs": [
    {
     "data": {
      "text/plain": [
       "{'04/11/23': {'15': 'Shane Clark',\n",
       "  '9': 'Jeffrey Hampton',\n",
       "  '11': 'Sean Hernandez',\n",
       "  '12': 'Julie Lopez',\n",
       "  '14': 'John Walker',\n",
       "  '17': 'Dennis Wright',\n",
       "  '13': 'James Leonard',\n",
       "  '16': 'Natasha Frazier'},\n",
       " '04/12/23': {'12': 'Richard Ramos',\n",
       "  '11': 'Jacob Garza',\n",
       "  '9': 'Robin Spence',\n",
       "  '13': 'Rachel Holmes',\n",
       "  '14': 'Steven Robinson'},\n",
       " '04/13/23': {'12': 'Brandy Hernandez',\n",
       "  '14': 'Christopher Robinson',\n",
       "  '17': 'Christy Todd',\n",
       "  '13': 'Bruce Jones',\n",
       "  '11': 'Mark Joyce'},\n",
       " '04/14/23': {'16': 'Stephen Smith',\n",
       "  '17': 'Shannon Murillo',\n",
       "  '13': 'Sarah Munoz',\n",
       "  '15': 'Nathan Parker'},\n",
       " '04/15/23': {'12': 'Brittany Brown', '15': 'Rebecca Graham'}}"
      ]
     },
     "execution_count": 175,
     "metadata": {},
     "output_type": "execute_result"
    }
   ],
   "source": [
    "loadSchedule()"
   ]
  },
  {
   "cell_type": "code",
   "execution_count": 160,
   "id": "7cb20b72",
   "metadata": {},
   "outputs": [
    {
     "data": {
      "text/plain": [
       "'hours available on 04/11/23 are 12:00, 16:00 - all other times are reserved'"
      ]
     },
     "execution_count": 160,
     "metadata": {},
     "output_type": "execute_result"
    }
   ],
   "source": [
    "getAvailTimes('04/11/23')"
   ]
  },
  {
   "cell_type": "code",
   "execution_count": 161,
   "id": "fd7032d3",
   "metadata": {},
   "outputs": [
    {
     "data": {
      "text/plain": [
       "5"
      ]
     },
     "execution_count": 161,
     "metadata": {},
     "output_type": "execute_result"
    }
   ],
   "source": [
    "len(schedule)"
   ]
  },
  {
   "cell_type": "code",
   "execution_count": null,
   "id": "f5511782",
   "metadata": {},
   "outputs": [],
   "source": []
  }
 ],
 "metadata": {
  "kernelspec": {
   "display_name": "Python 3 (ipykernel)",
   "language": "python",
   "name": "python3"
  },
  "language_info": {
   "codemirror_mode": {
    "name": "ipython",
    "version": 3
   },
   "file_extension": ".py",
   "mimetype": "text/x-python",
   "name": "python",
   "nbconvert_exporter": "python",
   "pygments_lexer": "ipython3",
   "version": "3.8.10"
  }
 },
 "nbformat": 4,
 "nbformat_minor": 5
}
